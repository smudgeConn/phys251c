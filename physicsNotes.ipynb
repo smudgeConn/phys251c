{
 "cells": [
  {
   "cell_type": "markdown",
   "metadata": {},
   "source": [
    "# PHYS 251C | University Physics I\n",
    "\n",
    "## Chapter 1: Physics and Measurement\n",
    "\n",
    "### Chapter 1 Definitions\n",
    "\n",
    "> The three fundamental physical quantities of mechanics are **length**, **mass**, and **time**, which in the SI system have the units **meter** (m), **kilogram** (kg), and **second** (s), respectively. These fundamental quantities cannot be defined in terms of more basic quantities.\n",
    "\n",
    "> The **density** of a substance is defined as its *mass per unit volume*:\n",
    "> $$\\rho=\\frac{m}{V}$$\n",
    "\n",
    "### Chapter 1 Concepts and Principles\n",
    "\n",
    "> The method of **dimensional analysis** is very powerful in solving physics problems. Dimensions can be treated as algebraic quantities. By making estimates and performing order-of-magnitude calculations, you should be able to approximate the answer to a problem when there is not enough information available to specify an exact solution completely.\n",
    "\n",
    "> Problem-solving skills and physical understanding can be improved by **modeling** the problem and by constructing **alternative representations** of the problem. Models helpful in solving problems include **geometric, simplification, analysis, and structural models**. Helpful representations include the **mental, pictorial, simplified pictorial, graphical, tabular, and mathematical representations**.\n",
    "\n",
    "> When you compute a result from several measured numbers, each of which has a certain accuracy, you should give the result with the correct number of **significant figures**.\n",
    "\n",
    "> When **multiplying** several quantities, the number of significant figures in the final answer is the same as the number of significant figures in the quantity having the smallest number of significant figures. The same rule applies to **division**.\n",
    "\n",
    "> When numbers are **added or subtracted**, the number of decimal places in the result should equal the smallest number of decimal places of any term in the sum or difference.\n"
   ]
  },
  {
   "attachments": {
    "image.png": {
     "image/png": "[encoded data removed]"
    }
   },
   "cell_type": "markdown",
   "metadata": {},
   "source": [
    "## Chapter 3: Vectors\n",
    "\n",
    "### Chapter 3 Definitions\n",
    "\n",
    "> **Scalar quantities** are those that have only a numerical value and no associated direction.\n",
    "\n",
    "> **Vector quantities** have both magnitude and direction and obey the laws of vector addition. The magnitude of a vector is always a positive number.\n",
    "\n",
    "### Chapter 3 Concepts and Principles\n",
    "\n",
    "> When two or more vectors are added together, they must all have the same units and they all must be the same type of quantity. We can add two vectors $\\vec{A}$ and $\\vec{B}$ graphically. In this method (Fig. 3.6), the resultant vector $\\vec{R}=\\vec{A}+\\vec{B}$ runs from the tail of $\\vec{A}$ to the tip of $\\vec{B}$.\n",
    "![image.png](attachment:image.png)\n",
    "\n",
    "> If a vector $\\vec{A}$ has an $x$ component $A_x$ and a $y$ component $A_y$, the vector can be expressed in unit-vector form as $\\vec{A}=A_x\\hat{i}+A_y\\hat{j}$. In this notation, $\\hat{i}$ is a unit vector pointing in the positive $x$ direction and $\\hat{j}$ is a unit vector pointing in the positive $y$ direction. Because $\\hat{i}$ and $\\hat{j}$ are unit vectors, $|\\hat{i}|=|\\hat{j}|=1$.\n",
    "\n",
    "> A second method of adding vectors involves **components** of the vectors. The $x$ component $A_x$ of the vector $\\vec{A}$ is equal to the projection of $\\vec{A}$ along the $x$ axis of a coordinate system, where $A_x=A\\cos{\\theta}$. The $y$ component $A_y$ of $\\vec{A}$ is the projection of $\\vec{A}$ along the $y$ axis, where $A_y=A\\sin{\\theta}$.\n",
    "\n",
    "> We can find the resultant of two or more vectors by resolving all vectors into their $x$ and $y$ components, adding their resultant $x$ and $y$ components, and then using the Pythagorean theorem to find the magnitude of the resultant vector. We can find the angle that the resultant vector makes with respect to the $x$ axis by using a suitable trigonometric function.\n",
    "\n"
   ]
  },
  {
   "cell_type": "markdown",
   "metadata": {},
   "source": [
    "## Chapter 2: Motion\n",
    "\n",
    "### Chapter 2 Definitions\n",
    "\n",
    "### Chapter 2 Concepts and Principles\n",
    "\n"
   ]
  },
  {
   "cell_type": "markdown",
   "metadata": {},
   "source": [
    "## Equations Sheet\n",
    "$$F=ma$$\n",
    "\n",
    "Instantaneous acceleration: $$\\vec{a}=\\frac{d\\vec{v}}{dt}$$\n",
    "\n",
    "Definitions: $$\\Delta v = v_f - v_i$$ $$a=\\frac{\\Delta v}{\\Delta t}$$\n",
    "\n",
    "Constant or average velocity: $$\\Delta x=v\\Delta t$$\n",
    "\n",
    "Cosntant or average acceleration: $$v_f=v_i+a\\Delta t$$ $$v_{ave}=\\frac{v_i+v_f}{2}$$ $$\\Delta x=v_it+\\frac{1}{2}at^2$$\n",
    "\n",
    "$$v=\\int{adt}=\\frac{dx}{dt}$$\n",
    "\n",
    "$$x=\\int vdt$$\n",
    "\n",
    "If you don't know what the time is: $$v_f^2=v_i^2+2a\\Delta x$$"
   ]
  }
 ],
 "metadata": {
  "language_info": {
   "name": "python"
  }
 },
 "nbformat": 4,
 "nbformat_minor": 2
}
